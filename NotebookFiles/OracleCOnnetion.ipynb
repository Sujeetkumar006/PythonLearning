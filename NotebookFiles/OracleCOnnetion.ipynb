{
 "cells": [
  {
   "cell_type": "code",
   "execution_count": 6,
   "metadata": {},
   "outputs": [
    {
     "data": {
      "text/plain": [
       "('64bit', 'WindowsPE')"
      ]
     },
     "execution_count": 6,
     "metadata": {},
     "output_type": "execute_result"
    }
   ],
   "source": [
    "#python -m pip install cx_Oracle --upgrade\n",
    "\n",
    "#import cx_Oracle\n",
    "import platform\n",
    "platform.architecture()"
   ]
  },
  {
   "cell_type": "code",
   "execution_count": 2,
   "metadata": {},
   "outputs": [
    {
     "name": "stdout",
     "output_type": "stream",
     "text": [
      "11.2.0.2.0\n",
      "None\n"
     ]
    }
   ],
   "source": [
    "#cx_Oracle.clientversion()\n",
    "#conn = cx_Oracle.connect(\"system\", \"Admin\", \"localhost/orcl\")\n",
    "#user/password@host:port/service'\n",
    "\n",
    "import cx_Oracle\n",
    "con = cx_Oracle.connect('system/Admin@127.0.0.1:1521/xe')\n",
    "print (con.version)\n",
    "#print (con.)\n",
    "con.close()\n"
   ]
  },
  {
   "cell_type": "code",
   "execution_count": 15,
   "metadata": {},
   "outputs": [
    {
     "name": "stdout",
     "output_type": "stream",
     "text": [
      "<class 'cx_Oracle.Cursor'>\n",
      "(3, 'Sujeet3', 'Pune')\n",
      "(4, 'Sujeet1', 'Pune')\n"
     ]
    }
   ],
   "source": [
    "import cx_Oracle\n",
    "con = cx_Oracle.connect('system/Admin@127.0.0.1:1521/xe')\n",
    "cur = con.cursor()\n",
    "tableinsertion=\"insert into Persons values (3,'Sujeet3','Pune') \"\n",
    "listresult1=cur.execute(tableinsertion)\n",
    "listresult2=cur.execute('commit')\n",
    "listresult=cur.execute('select * from Persons order by PersonID')\n",
    "#listresult=cur.execute('select sysdate from dual')\n",
    "print(type(listresult))\n",
    "for result in listresult:\n",
    "    print (result)\n",
    "cur.close()\n",
    "con.close()         \n",
    "#The cursor() method opens a cursor for statements to use.\n",
    "\n",
    "#The execute() method parses and executes the statement."
   ]
  },
  {
   "cell_type": "code",
   "execution_count": null,
   "metadata": {},
   "outputs": [],
   "source": []
  },
  {
   "cell_type": "code",
   "execution_count": null,
   "metadata": {},
   "outputs": [],
   "source": []
  }
 ],
 "metadata": {
  "kernelspec": {
   "display_name": "Python 3",
   "language": "python",
   "name": "python3"
  },
  "language_info": {
   "codemirror_mode": {
    "name": "ipython",
    "version": 3
   },
   "file_extension": ".py",
   "mimetype": "text/x-python",
   "name": "python",
   "nbconvert_exporter": "python",
   "pygments_lexer": "ipython3",
   "version": "3.7.3"
  }
 },
 "nbformat": 4,
 "nbformat_minor": 2
}
