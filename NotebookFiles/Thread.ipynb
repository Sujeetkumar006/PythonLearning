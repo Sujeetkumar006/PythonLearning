{
 "cells": [
  {
   "cell_type": "code",
   "execution_count": 3,
   "metadata": {},
   "outputs": [
    {
     "name": "stdout",
     "output_type": "stream",
     "text": [
      "Starting  Thread\n",
      "Thread 1 2019-04-04\n",
      "Exiting Thread\n",
      "Starting  Thread\n",
      "Thread 2 2019-04-04\n",
      "Exiting Thread\n",
      "Exiting the Program!!!\n"
     ]
    }
   ],
   "source": [
    "import threading\n",
    "import datetime\n",
    "\n",
    "class myThread (threading.Thread):\n",
    "    def __init__(self, name, counter):\n",
    "        threading.Thread.__init__(self)\n",
    "        self.threadID = counter\n",
    "        self.name = name\n",
    "        self.counter = counter\n",
    "    def run(self):\n",
    "        print(\"Starting \" , self.name)\n",
    "        print_date(self.name, self.counter)\n",
    "        print (\"Exiting \" + self.name)\n",
    "\n",
    "def print_date(threadName, counter):\n",
    "    datefields = []\n",
    "    today = datetime.date.today()\n",
    "    datefields.append(today)\n",
    "    print(threadName, counter, datefields[0] )\n",
    "\n",
    "# Create new threads\n",
    "thread1 = myThread(\"Thread\", 1)\n",
    "thread2 = myThread(\"Thread\", 2)\n",
    "\n",
    "# Start new Threads\n",
    "thread1.start()\n",
    "thread2.start()\n",
    "\n",
    "thread1.join()\n",
    "thread2.join()\n",
    "print (\"Exiting the Program!!!\")"
   ]
  },
  {
   "cell_type": "code",
   "execution_count": 4,
   "metadata": {},
   "outputs": [
    {
     "name": "stdout",
     "output_type": "stream",
     "text": [
      "Starting  Thread\n",
      "Thread 1 2019-04-04\n",
      "Exiting ThreadStarting \n",
      " Thread\n",
      "Thread 2 2019-04-04\n",
      "Exiting Thread\n",
      "Exiting the Program!!!\n"
     ]
    }
   ],
   "source": [
    "import threading\n",
    "import datetime\n",
    "\n",
    "exitFlag = 0\n",
    "\n",
    "class myThread (threading.Thread):\n",
    "    def __init__(self, name, counter):\n",
    "        threading.Thread.__init__(self)\n",
    "        self.threadID = counter\n",
    "        self.name = name\n",
    "        self.counter = counter\n",
    "    def run(self):\n",
    "        print (\"Starting \" , self.name)\n",
    "        # Acquire lock to synchronize thread\n",
    "        threadLock.acquire()\n",
    "        print_date(self.name, self.counter)\n",
    "        # Release lock for the next thread\n",
    "        threadLock.release()\n",
    "        print (\"Exiting \" + self.name)\n",
    "\n",
    "def print_date(threadName, counter):\n",
    "    datefields = []\n",
    "    today = datetime.date.today()\n",
    "    datefields.append(today)\n",
    "    print ( threadName, counter, datefields[0] )\n",
    "\n",
    "threadLock = threading.Lock()\n",
    "threads = []\n",
    "\n",
    "# Create new threads\n",
    "thread1 = myThread(\"Thread\", 1)\n",
    "thread2 = myThread(\"Thread\", 2)\n",
    "\n",
    "# Start new Threads\n",
    "thread1.start()\n",
    "thread2.start()\n",
    "\n",
    "# Add threads to thread list\n",
    "threads.append(thread1)\n",
    "threads.append(thread2)\n",
    "\n",
    "# Wait for all threads to complete\n",
    "for t in threads:\n",
    "    t.join()\n",
    "print (\"Exiting the Program!!!\")"
   ]
  },
  {
   "cell_type": "code",
   "execution_count": 9,
   "metadata": {},
   "outputs": [
    {
     "name": "stdout",
     "output_type": "stream",
     "text": [
      "Sujeet Starting\n",
      "Hello WOrker\n",
      "Sujeet Exiting\n",
      "Shrikant Starting\n",
      "Hello WOrker\n",
      "Shrikant Exiting\n"
     ]
    }
   ],
   "source": [
    "import threading\n",
    "import time\n",
    "\n",
    "def worker():\n",
    "    print (threading.currentThread().getName(), 'Starting')\n",
    "    print('Hello WOrker')\n",
    "    time.sleep(9)\n",
    "    print (threading.currentThread().getName(), 'Exiting')\n",
    "\n",
    "def my_service():\n",
    "    #print (threading.currentThread().getName(), 'Starting')\n",
    "    print('Hello My service')\n",
    "    time.sleep(9)\n",
    "    #print (threading.currentThread().getName(), 'Exiting')\n",
    "\n",
    "#t = threading.Thread(name='my_serv', target=my_service )\n",
    "#w = threading.Thread(name='worker', target=worker)\n",
    "#w2 = threading.Thread(target=worker) # use default name\n",
    "\n",
    "mythred=threading.Thread(name='Sujeet', target=worker)\n",
    "mythred1=threading.Thread(name='Shrikant', target=worker)\n",
    "\n",
    "#w.start()\n",
    "#w2.start()\n",
    "#t.start()\n",
    "\n",
    "mythred.start()\n",
    "mythred.join()\n",
    "mythred1.start()\n"
   ]
  },
  {
   "cell_type": "code",
   "execution_count": null,
   "metadata": {},
   "outputs": [],
   "source": [
    "# Decorator:\n",
    "#In Decorators, functions are taken as the argument into another function and then called inside the wrapper function.\n",
    "\n",
    "@abc_decorator\n",
    "def hello_decorator(): \n",
    "    print(\"abc\") \n",
    "  \n",
    "'''Above code is equivalent to - \n",
    "  \n",
    "def hello_decorator(): \n",
    "    print(\"abc\") \n",
    "      \n",
    "hello_decorator = abc_decorator(hello_decorator)'''\n",
    "\n",
    "# abc_decorator is a callable function which will add some code on the top of another callable function hello_decorator \n",
    "# and return the wrapper function."
   ]
  },
  {
   "cell_type": "code",
   "execution_count": 23,
   "metadata": {},
   "outputs": [
    {
     "name": "stdout",
     "output_type": "stream",
     "text": [
      "We call foo before decoration:\n",
      "Hi, foo has been called with Hi\n",
      "We now decorate foo with f:\n",
      "We call foo after decoration:\n",
      "Before calling foo\n",
      "Hi, foo has been called with 42\n",
      "After calling foo\n"
     ]
    }
   ],
   "source": [
    "def our_decorator(func):\n",
    "    def function_wrapper(x):\n",
    "        print(\"Before calling \" + func.__name__)\n",
    "        func(x)\n",
    "        print(\"After calling \" + func.__name__)\n",
    "    return function_wrapper\n",
    "\n",
    "def foo(x):\n",
    "    print(\"Hi, foo has been called with \" + str(x))\n",
    "\n",
    "print(\"We call foo before decoration:\")\n",
    "foo(\"Hi\")\n",
    "    \n",
    "print(\"We now decorate foo with f:\")\n",
    "foo = our_decorator(foo)\n",
    "\n",
    "print(\"We call foo after decoration:\")\n",
    "foo(42)"
   ]
  },
  {
   "cell_type": "code",
   "execution_count": 24,
   "metadata": {},
   "outputs": [
    {
     "name": "stdout",
     "output_type": "stream",
     "text": [
      "Before calling foo\n",
      "Hi, foo has been called with Hi\n",
      "After calling foo\n"
     ]
    }
   ],
   "source": [
    "def our_decorator(func):\n",
    "    def function_wrapper(x):\n",
    "        print(\"Before calling \" + func.__name__)\n",
    "        func(x)\n",
    "        print(\"After calling \" + func.__name__)\n",
    "    return function_wrapper\n",
    "\n",
    "@our_decorator\n",
    "def foo(x):\n",
    "    print(\"Hi, foo has been called with \" + str(x))\n",
    "\n",
    "foo(\"Hi\")"
   ]
  },
  {
   "cell_type": "code",
   "execution_count": null,
   "metadata": {},
   "outputs": [],
   "source": []
  }
 ],
 "metadata": {
  "kernelspec": {
   "display_name": "Python 3",
   "language": "python",
   "name": "python3"
  },
  "language_info": {
   "codemirror_mode": {
    "name": "ipython",
    "version": 3
   },
   "file_extension": ".py",
   "mimetype": "text/x-python",
   "name": "python",
   "nbconvert_exporter": "python",
   "pygments_lexer": "ipython3",
   "version": "3.7.3"
  }
 },
 "nbformat": 4,
 "nbformat_minor": 2
}
