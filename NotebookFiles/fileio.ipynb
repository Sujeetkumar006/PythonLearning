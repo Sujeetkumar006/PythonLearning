{
 "cells": [
  {
   "cell_type": "code",
   "execution_count": 1,
   "metadata": {},
   "outputs": [
    {
     "name": "stdout",
     "output_type": "stream",
     "text": [
      "Enter your name:sujeetKUmar\n",
      "My aname is :  sujeetKUmar\n"
     ]
    }
   ],
   "source": [
    "x=input(\"Enter your name:\")\n",
    "print(\"My aname is : \", x)"
   ]
  },
  {
   "cell_type": "code",
   "execution_count": 2,
   "metadata": {
    "scrolled": true
   },
   "outputs": [
    {
     "ename": "UnsupportedOperation",
     "evalue": "not writable",
     "output_type": "error",
     "traceback": [
      "\u001b[1;31m---------------------------------------------------------------------------\u001b[0m",
      "\u001b[1;31mUnsupportedOperation\u001b[0m                      Traceback (most recent call last)",
      "\u001b[1;32m<ipython-input-2-fb307032f5be>\u001b[0m in \u001b[0;36m<module>\u001b[1;34m\u001b[0m\n\u001b[0;32m      1\u001b[0m \u001b[0minfile\u001b[0m \u001b[1;33m=\u001b[0m \u001b[0mopen\u001b[0m\u001b[1;33m(\u001b[0m\u001b[1;34m'F:/Study/StudyDocs_GoogleDrive/Training/Classes/worksapce/Test1.txt'\u001b[0m\u001b[1;33m,\u001b[0m \u001b[1;34m'r'\u001b[0m\u001b[1;33m)\u001b[0m\u001b[1;33m\u001b[0m\u001b[1;33m\u001b[0m\u001b[0m\n\u001b[1;32m----> 2\u001b[1;33m \u001b[0mfileread\u001b[0m\u001b[1;33m=\u001b[0m\u001b[0minfile\u001b[0m\u001b[1;33m.\u001b[0m\u001b[0mwrite\u001b[0m\u001b[1;33m(\u001b[0m\u001b[1;34m'THis is ssecond line'\u001b[0m\u001b[1;33m)\u001b[0m\u001b[1;33m\u001b[0m\u001b[1;33m\u001b[0m\u001b[0m\n\u001b[0m\u001b[0;32m      3\u001b[0m \u001b[0mprint\u001b[0m\u001b[1;33m(\u001b[0m\u001b[0mtype\u001b[0m\u001b[1;33m(\u001b[0m\u001b[0minfile\u001b[0m\u001b[1;33m)\u001b[0m\u001b[1;33m)\u001b[0m\u001b[1;33m\u001b[0m\u001b[1;33m\u001b[0m\u001b[0m\n\u001b[0;32m      4\u001b[0m \u001b[0mprint\u001b[0m\u001b[1;33m(\u001b[0m\u001b[0mfileread\u001b[0m\u001b[1;33m)\u001b[0m\u001b[1;33m\u001b[0m\u001b[1;33m\u001b[0m\u001b[0m\n\u001b[0;32m      5\u001b[0m \u001b[0mprint\u001b[0m\u001b[1;33m(\u001b[0m\u001b[0mfileread\u001b[0m\u001b[1;33m)\u001b[0m\u001b[1;33m\u001b[0m\u001b[1;33m\u001b[0m\u001b[0m\n",
      "\u001b[1;31mUnsupportedOperation\u001b[0m: not writable"
     ]
    }
   ],
   "source": [
    "infile = open('F:/Study/StudyDocs_GoogleDrive/Training/Classes/worksapce/Test1.txt', 'r') \n",
    "fileread=infile.write('THis is ssecond line')\n",
    "print(type(infile))\n",
    "print(fileread)\n",
    "#print (\"Name of the file: \", infile.name) \n",
    "#print (\"Closed or not : \", infile.closed) \n",
    "#print (\"Opening mode : \", infile.mode) \n",
    "infile.close() "
   ]
  },
  {
   "cell_type": "code",
   "execution_count": 30,
   "metadata": {},
   "outputs": [
    {
     "name": "stdout",
     "output_type": "stream",
     "text": [
      "53\n",
      "0\n",
      "This us my first LineThis is 3rd lineThis is 3rd line\n",
      "53\n",
      "16\n",
      "69\n",
      "0\n",
      "This us my first LineThis is 3rd lineThis is 3rd lineThis is 3rd line\n"
     ]
    }
   ],
   "source": [
    "infile = open('G:/test/test.txt', 'a+') \n",
    "orifginalposition=infile.tell()\n",
    "print(orifginalposition)\n",
    "print(infile.seek(0,0))\n",
    "originalfilevalue=infile.read()\n",
    "print(originalfilevalue)\n",
    "print(infile.seek(orifginalposition,0))\n",
    "print(infile.write('This is 3rd line'))\n",
    "print(infile.tell())\n",
    "print(infile.seek(0,0))\n",
    "finalread=infile.read()\n",
    "print(finalread)\n",
    "\n",
    "infile.close()"
   ]
  },
  {
   "cell_type": "code",
   "execution_count": 29,
   "metadata": {},
   "outputs": [
    {
     "name": "stdout",
     "output_type": "stream",
     "text": [
      "I am line 1.\n",
      "I am line 2 !!\n",
      "\n"
     ]
    }
   ],
   "source": [
    "infile = open('G:/test/test_2.txt', \"w\") \n",
    "infile.write('I am line 1.\\nI am line 2 !!\\n')\n",
    "#fileObject.read([count]);\n",
    "infile.close() \n",
    "infile = open('G:/test/test_2.txt', \"r\") \n",
    "readfile=infile.read(100);\n",
    "print(readfile)"
   ]
  },
  {
   "cell_type": "code",
   "execution_count": 18,
   "metadata": {},
   "outputs": [],
   "source": [
    "infile.close()\n",
    "\n",
    "# Check current position \n",
    "#position = fo.tell() \n",
    "#print (\"Current file position : \", position) \n",
    " \n",
    "# Reposition pointer at the beginning once again \n",
    "#position = fo.seek(0, 0)\n",
    "\n",
    "# Renaming \n",
    "import os\n",
    "os.rename('G:/test/test_2.txt', 'G:/test/test_3.txt') \n",
    "\n",
    "# remove file name\n",
    "os.remove(file_name)\n",
    "\n",
    "# Changing a directory to \"/home/newdir\" \n",
    "os.chdir(\"/home/newdir\")\n",
    "\n",
    "# This would give location of the current directory \n",
    "os.getcwd()\n",
    "\n",
    "# This would  remove \"/tmp/test\"  directory. \n",
    "os.rmdir( \"/tmp/test\"  ) \n",
    "\n",
    "fileObject.readline( size );\n",
    "\n",
    "fo.truncate()\n",
    "\n",
    "fileObject.writelines( sequence )\n",
    "\n",
    "os.rmdir(path) \n"
   ]
  },
  {
   "cell_type": "code",
   "execution_count": 21,
   "metadata": {},
   "outputs": [
    {
     "name": "stdout",
     "output_type": "stream",
     "text": [
      "File Info : os.stat_result(st_mode=16895, st_ino=844424930145769, st_dev=3459675380, st_nlink=1, st_uid=0, st_gid=0, st_size=0, st_atime=1553709612, st_mtime=1553709612, st_ctime=1553709612)\n"
     ]
    }
   ],
   "source": [
    "import os\n",
    "os.mkdir(\"G:/test/test_3\") \n",
    "info = os.lstat(\"G:/test/test_3\") \n",
    "print (\"File Info :\", info)"
   ]
  },
  {
   "cell_type": "code",
   "execution_count": null,
   "metadata": {},
   "outputs": [],
   "source": []
  }
 ],
 "metadata": {
  "kernelspec": {
   "display_name": "Python 3",
   "language": "python",
   "name": "python3"
  },
  "language_info": {
   "codemirror_mode": {
    "name": "ipython",
    "version": 3
   },
   "file_extension": ".py",
   "mimetype": "text/x-python",
   "name": "python",
   "nbconvert_exporter": "python",
   "pygments_lexer": "ipython3",
   "version": "3.7.3"
  }
 },
 "nbformat": 4,
 "nbformat_minor": 2
}
