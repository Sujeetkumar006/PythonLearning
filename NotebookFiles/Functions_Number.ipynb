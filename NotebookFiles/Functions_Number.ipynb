{
 "cells": [
  {
   "cell_type": "code",
   "execution_count": 23,
   "metadata": {},
   "outputs": [
    {
     "name": "stdout",
     "output_type": "stream",
     "text": [
      "10\n",
      "10\n",
      "10.2\n",
      "19350872\n",
      "19350872\n",
      "{1, 2, 3, (1, 2, 3)}\n"
     ]
    },
    {
     "data": {
      "text/plain": [
       "{'HNL', 'ITO', 'LNY'}"
      ]
     },
     "execution_count": 23,
     "metadata": {},
     "output_type": "execute_result"
    }
   ],
   "source": [
    "#abs(x)\n",
    "print(abs(10))\n",
    "print(abs(-10))\n",
    "print(abs(10.2))\n",
    "\n",
    "#ceil\n",
    "s={(1,2,3),1,2,1,2}\n",
    "print(id(s))\n",
    "s.add((3))\n",
    "print(id(s))\n",
    "print(s)\n",
    "\n",
    "set1= set ()\n",
    "type(set1)\n",
    "\n",
    "hawaii_airports = set(['HNL', 'ITO'])\n",
    "pacific_airports = {'HNL', 'NRT'} \n",
    "hawaii_airports.add('LNY') \n",
    "pacific_airports.add('SYD') \n",
    "hawaii_airports\n"
   ]
  },
  {
   "cell_type": "code",
   "execution_count": 25,
   "metadata": {},
   "outputs": [
    {
     "data": {
      "text/plain": [
       "False"
      ]
     },
     "execution_count": 25,
     "metadata": {},
     "output_type": "execute_result"
    }
   ],
   "source": [
    "list3=[123,234,[546,678]]\n",
    "546 in list3"
   ]
  },
  {
   "cell_type": "code",
   "execution_count": 29,
   "metadata": {},
   "outputs": [
    {
     "data": {
      "text/plain": [
       "True"
      ]
     },
     "execution_count": 29,
     "metadata": {},
     "output_type": "execute_result"
    }
   ],
   "source": [
    "abc=123\n",
    "xyz=abc\n",
    "abc is xyz"
   ]
  },
  {
   "cell_type": "code",
   "execution_count": 41,
   "metadata": {},
   "outputs": [
    {
     "name": "stdout",
     "output_type": "stream",
     "text": [
      "I am less than 10\n",
      "1 hello world: 2 kjdshjj\n"
     ]
    }
   ],
   "source": [
    "one =1\n",
    "two =2\n",
    "three =3\n",
    "if (one ==1 and two == 3):\n",
    " print ('I  am true')\n",
    "elif (one <10):\n",
    "    print('I am less than 10')\n",
    "elif (one <20):\n",
    "    print('I am ')\n",
    "    \n",
    "print (one, 'hello world:',two, 'kjdshjj')    \n"
   ]
  },
  {
   "cell_type": "code",
   "execution_count": 47,
   "metadata": {},
   "outputs": [
    {
     "name": "stdout",
     "output_type": "stream",
     "text": [
      "153\n",
      "264\n",
      "486\n",
      "708\n"
     ]
    },
    {
     "data": {
      "text/plain": [
       "30"
      ]
     },
     "execution_count": 47,
     "metadata": {},
     "output_type": "execute_result"
    }
   ],
   "source": [
    "air=[123,234,456,678]\n",
    "for air1 in air :\n",
    "    airopalne=30\n",
    "    air1=air1+airopalne\n",
    "    print (air1)\n",
    "air1   \n",
    "airopalne\n",
    "    "
   ]
  },
  {
   "cell_type": "code",
   "execution_count": null,
   "metadata": {},
   "outputs": [],
   "source": []
  },
  {
   "cell_type": "code",
   "execution_count": null,
   "metadata": {},
   "outputs": [],
   "source": []
  }
 ],
 "metadata": {
  "kernelspec": {
   "display_name": "Python 3",
   "language": "python",
   "name": "python3"
  },
  "language_info": {
   "codemirror_mode": {
    "name": "ipython",
    "version": 3
   },
   "file_extension": ".py",
   "mimetype": "text/x-python",
   "name": "python",
   "nbconvert_exporter": "python",
   "pygments_lexer": "ipython3",
   "version": "3.7.3"
  }
 },
 "nbformat": 4,
 "nbformat_minor": 2
}
