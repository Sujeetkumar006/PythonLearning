{
 "cells": [
  {
   "cell_type": "code",
   "execution_count": 1,
   "metadata": {},
   "outputs": [
    {
     "name": "stdout",
     "output_type": "stream",
     "text": [
      "Number of ticks since 12:00am, January 1, 1970: 1552582511.2220786\n",
      "Hello\n"
     ]
    }
   ],
   "source": [
    "#!/usr/bin/python3 \n",
    "import time;  # This is required to include time module. \n",
    " \n",
    "ticks = time.time() \n",
    "print (\"Number of ticks since 12:00am, January 1, 1970:\", ticks)\n",
    "time.sleep(3)\n",
    "print('Hello')"
   ]
  },
  {
   "cell_type": "code",
   "execution_count": 7,
   "metadata": {},
   "outputs": [
    {
     "name": "stdout",
     "output_type": "stream",
     "text": [
      "1552581861.333187\n"
     ]
    }
   ],
   "source": [
    "import time as tm\n",
    "noofticks=tm.time()\n",
    "print(noofticks)"
   ]
  },
  {
   "cell_type": "code",
   "execution_count": 18,
   "metadata": {},
   "outputs": [
    {
     "name": "stdout",
     "output_type": "stream",
     "text": [
      "Here is the calendar:\n",
      "     March 2019\n",
      "Mo Tu We Th Fr Sa Su\n",
      "             1  2  3\n",
      " 4  5  6  7  8  9 10\n",
      "11 12 13 14 15 16 17\n",
      "18 19 20 21 22 23 24\n",
      "25 26 27 28 29 30 31\n",
      "\n"
     ]
    }
   ],
   "source": [
    "import calendar \n",
    "cal = calendar.month(2019, 3) \n",
    "print (\"Here is the calendar:\") \n",
    "print (cal) "
   ]
  },
  {
   "cell_type": "code",
   "execution_count": 2,
   "metadata": {},
   "outputs": [
    {
     "name": "stdout",
     "output_type": "stream",
     "text": [
      "ctime :  Thu Mar 14 22:33:45 2019\n"
     ]
    }
   ],
   "source": [
    "import time \n",
    "print (\"ctime : \", time.ctime())"
   ]
  },
  {
   "cell_type": "code",
   "execution_count": 11,
   "metadata": {},
   "outputs": [
    {
     "name": "stdout",
     "output_type": "stream",
     "text": [
      "Mar 14 2019 22:47:34\n"
     ]
    }
   ],
   "source": [
    "import time\n",
    "t = (2019, 3, 14, 10, 39, 45, 3, 73, 0) \n",
    "t = time.mktime(t) \n",
    "print (time.strftime(\"%b %d %Y %H:%M:%S\", time.localtime())) "
   ]
  },
  {
   "cell_type": "code",
   "execution_count": 17,
   "metadata": {},
   "outputs": [
    {
     "name": "stdout",
     "output_type": "stream",
     "text": [
      "<class 'float'>\n",
      "1552621860.2008991\n",
      "time.struct_time(tm_year=2019, tm_mon=3, tm_mday=15, tm_hour=9, tm_min=21, tm_sec=0, tm_wday=4, tm_yday=74, tm_isdst=0)\n",
      "time.struct_time(tm_year=2019, tm_mon=3, tm_mday=15, tm_hour=9, tm_min=21, tm_sec=0, tm_wday=4, tm_yday=74, tm_isdst=0)\n"
     ]
    },
    {
     "data": {
      "text/plain": [
       "'Fri Mar 15 09:21:00 2019'"
      ]
     },
     "execution_count": 17,
     "metadata": {},
     "output_type": "execute_result"
    }
   ],
   "source": [
    "import time as tm\n",
    "import calendar as cl\n",
    "mytick= tm.time()\n",
    "print(type(mytick))\n",
    "print(mytick)\n",
    "print(tm.localtime())\n",
    "print(tm.localtime(mytick))\n",
    "\n",
    "#print(tm.asctime(tm.localtime()))\n",
    "tm.localtime()\n",
    "tm.asctime(tm.localtime())"
   ]
  },
  {
   "cell_type": "code",
   "execution_count": 7,
   "metadata": {},
   "outputs": [
    {
     "name": "stdout",
     "output_type": "stream",
     "text": [
      "122222222222222222222222222222222222222277777777777777777777777777777777777777777777777777777\n",
      "1.4444444444444444e+39\n"
     ]
    }
   ],
   "source": [
    "a=122222222222222222222222222222222222222277777777777777777777777777777777777777777777777777777\n",
    "print(a)\n",
    "b=1444444444444444444444444444555555556666.22222222222222222222222222223333333333333334444444444\n",
    "print(b)"
   ]
  },
  {
   "cell_type": "code",
   "execution_count": 8,
   "metadata": {},
   "outputs": [
    {
     "data": {
      "text/plain": [
       "17970.14927673346"
      ]
     },
     "execution_count": 8,
     "metadata": {},
     "output_type": "execute_result"
    }
   ],
   "source": [
    "1552620897.5097709/(24*60*60)"
   ]
  },
  {
   "cell_type": "code",
   "execution_count": 9,
   "metadata": {},
   "outputs": [
    {
     "data": {
      "text/plain": [
       "49.36854196904797"
      ]
     },
     "execution_count": 9,
     "metadata": {},
     "output_type": "execute_result"
    }
   ],
   "source": [
    "17970.14927673346/364"
   ]
  },
  {
   "cell_type": "code",
   "execution_count": 41,
   "metadata": {},
   "outputs": [
    {
     "name": "stderr",
     "output_type": "stream",
     "text": [
      "C:\\ProgramData\\Anaconda3\\lib\\site-packages\\ipykernel_launcher.py:4: DeprecationWarning: time.clock has been deprecated in Python 3.3 and will be removed from Python 3.8: use time.perf_counter or time.process_time instead\n",
      "  after removing the cwd from sys.path.\n"
     ]
    },
    {
     "data": {
      "text/plain": [
       "str"
      ]
     },
     "execution_count": 41,
     "metadata": {},
     "output_type": "execute_result"
    }
   ],
   "source": [
    "import time\n",
    "time.altzone\n",
    "time.asctime()\n",
    "time.clock()\n",
    "time.ctime()\n",
    "#print(time.localtime())\n",
    "#print(time.gmtime()) \n",
    "#print(time.mktime(time.localtime()))\n",
    "#print(time.time())\n",
    "type (time.strftime(\"%d %b %Y %H:%M:%S\", time.localtime())) \n",
    "\n"
   ]
  },
  {
   "cell_type": "code",
   "execution_count": 23,
   "metadata": {},
   "outputs": [
    {
     "data": {
      "text/plain": [
       "26.298832991133335"
      ]
     },
     "execution_count": 23,
     "metadata": {},
     "output_type": "execute_result"
    }
   ],
   "source": [
    "1577.929979468/60\n"
   ]
  },
  {
   "cell_type": "code",
   "execution_count": 45,
   "metadata": {},
   "outputs": [
    {
     "data": {
      "text/plain": [
       "time.struct_time(tm_year=2019, tm_mon=3, tm_mday=15, tm_hour=9, tm_min=50, tm_sec=57, tm_wday=4, tm_yday=74, tm_isdst=-1)"
      ]
     },
     "execution_count": 45,
     "metadata": {},
     "output_type": "execute_result"
    }
   ],
   "source": [
    "import time\n",
    "time.strptime(time.strftime(\"%a %b %d %H:%M:%S %Y\", time.localtime()),'%a %b %d %H:%M:%S %Y') \n",
    "#time.strptime(time.strftime(\"%d %b %Y %H:%M:%S\",fmt='%a %b %d %H:%M:%S %Y')            "
   ]
  },
  {
   "cell_type": "code",
   "execution_count": null,
   "metadata": {},
   "outputs": [],
   "source": []
  }
 ],
 "metadata": {
  "kernelspec": {
   "display_name": "Python 3",
   "language": "python",
   "name": "python3"
  },
  "language_info": {
   "codemirror_mode": {
    "name": "ipython",
    "version": 3
   },
   "file_extension": ".py",
   "mimetype": "text/x-python",
   "name": "python",
   "nbconvert_exporter": "python",
   "pygments_lexer": "ipython3",
   "version": "3.7.3"
  }
 },
 "nbformat": 4,
 "nbformat_minor": 2
}
